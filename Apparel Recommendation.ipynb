{
 "cells": [
  {
   "cell_type": "markdown",
   "metadata": {},
   "source": [
    "# Amazon Fashion Apparel Recommendation With NLP and Deep Learning"
   ]
  },
  {
   "cell_type": "code",
   "execution_count": 276,
   "metadata": {},
   "outputs": [],
   "source": [
    "import numpy as np\n",
    "import pandas as pd\n",
    "import matplotlib.pyplot as plt\n",
    "import seaborn as sns\n",
    "import pandas as pd"
   ]
  },
  {
   "cell_type": "markdown",
   "metadata": {},
   "source": [
    "## Loading the dataset"
   ]
  },
  {
   "cell_type": "code",
   "execution_count": 277,
   "metadata": {},
   "outputs": [],
   "source": [
    "data = pd.read_json(\"shirts_data.json\")"
   ]
  },
  {
   "cell_type": "code",
   "execution_count": 278,
   "metadata": {},
   "outputs": [
    {
     "name": "stdout",
     "output_type": "stream",
     "text": [
      "No of Data Points :  183138\n",
      "No of Features :  19\n"
     ]
    }
   ],
   "source": [
    "print(\"No of Data Points : \",data.shape[0])\n",
    "print(\"No of Features : \",data.shape[1])"
   ]
  },
  {
   "cell_type": "markdown",
   "metadata": {},
   "source": [
    "This particular dataset has around 200,000 data points and 19 features"
   ]
  },
  {
   "cell_type": "markdown",
   "metadata": {},
   "source": [
    "## Overview of the Dataset"
   ]
  },
  {
   "cell_type": "code",
   "execution_count": 279,
   "metadata": {},
   "outputs": [
    {
     "data": {
      "text/html": [
       "<div>\n",
       "<style scoped>\n",
       "    .dataframe tbody tr th:only-of-type {\n",
       "        vertical-align: middle;\n",
       "    }\n",
       "\n",
       "    .dataframe tbody tr th {\n",
       "        vertical-align: top;\n",
       "    }\n",
       "\n",
       "    .dataframe thead th {\n",
       "        text-align: right;\n",
       "    }\n",
       "</style>\n",
       "<table border=\"1\" class=\"dataframe\">\n",
       "  <thead>\n",
       "    <tr style=\"text-align: right;\">\n",
       "      <th></th>\n",
       "      <th>sku</th>\n",
       "      <th>asin</th>\n",
       "      <th>product_type_name</th>\n",
       "      <th>formatted_price</th>\n",
       "      <th>author</th>\n",
       "      <th>color</th>\n",
       "      <th>brand</th>\n",
       "      <th>publisher</th>\n",
       "      <th>availability</th>\n",
       "      <th>reviews</th>\n",
       "      <th>large_image_url</th>\n",
       "      <th>availability_type</th>\n",
       "      <th>small_image_url</th>\n",
       "      <th>editorial_review</th>\n",
       "      <th>title</th>\n",
       "      <th>model</th>\n",
       "      <th>medium_image_url</th>\n",
       "      <th>manufacturer</th>\n",
       "      <th>editorial_reivew</th>\n",
       "    </tr>\n",
       "  </thead>\n",
       "  <tbody>\n",
       "    <tr>\n",
       "      <th>0</th>\n",
       "      <td>None</td>\n",
       "      <td>B016I2TS4W</td>\n",
       "      <td>SHIRT</td>\n",
       "      <td>None</td>\n",
       "      <td>None</td>\n",
       "      <td>None</td>\n",
       "      <td>FNC7C</td>\n",
       "      <td>None</td>\n",
       "      <td>None</td>\n",
       "      <td>[False, https://www.amazon.com/reviews/iframe?...</td>\n",
       "      <td>https://images-na.ssl-images-amazon.com/images...</td>\n",
       "      <td>None</td>\n",
       "      <td>https://images-na.ssl-images-amazon.com/images...</td>\n",
       "      <td>Minions Como Superheroes Ironman Women's O Nec...</td>\n",
       "      <td>Minions Como Superheroes Ironman Long Sleeve R...</td>\n",
       "      <td>None</td>\n",
       "      <td>https://images-na.ssl-images-amazon.com/images...</td>\n",
       "      <td>None</td>\n",
       "      <td>NaN</td>\n",
       "    </tr>\n",
       "    <tr>\n",
       "      <th>1</th>\n",
       "      <td>None</td>\n",
       "      <td>B01N49AI08</td>\n",
       "      <td>SHIRT</td>\n",
       "      <td>None</td>\n",
       "      <td>None</td>\n",
       "      <td>None</td>\n",
       "      <td>FIG Clothing</td>\n",
       "      <td>None</td>\n",
       "      <td>None</td>\n",
       "      <td>[False, https://www.amazon.com/reviews/iframe?...</td>\n",
       "      <td>https://images-na.ssl-images-amazon.com/images...</td>\n",
       "      <td>None</td>\n",
       "      <td>https://images-na.ssl-images-amazon.com/images...</td>\n",
       "      <td>Sizing runs on the small side. FIG® recommends...</td>\n",
       "      <td>FIG Clothing Womens Izo Tunic</td>\n",
       "      <td>None</td>\n",
       "      <td>https://images-na.ssl-images-amazon.com/images...</td>\n",
       "      <td>None</td>\n",
       "      <td>NaN</td>\n",
       "    </tr>\n",
       "    <tr>\n",
       "      <th>2</th>\n",
       "      <td>None</td>\n",
       "      <td>B01JDPCOHO</td>\n",
       "      <td>SHIRT</td>\n",
       "      <td>None</td>\n",
       "      <td>None</td>\n",
       "      <td>None</td>\n",
       "      <td>FIG Clothing</td>\n",
       "      <td>None</td>\n",
       "      <td>None</td>\n",
       "      <td>[False, https://www.amazon.com/reviews/iframe?...</td>\n",
       "      <td>https://images-na.ssl-images-amazon.com/images...</td>\n",
       "      <td>None</td>\n",
       "      <td>https://images-na.ssl-images-amazon.com/images...</td>\n",
       "      <td>Sizing runs on the small side. FIG® recommends...</td>\n",
       "      <td>FIG Clothing Womens Won Top</td>\n",
       "      <td>None</td>\n",
       "      <td>https://images-na.ssl-images-amazon.com/images...</td>\n",
       "      <td>None</td>\n",
       "      <td>NaN</td>\n",
       "    </tr>\n",
       "    <tr>\n",
       "      <th>3</th>\n",
       "      <td>None</td>\n",
       "      <td>B01N19U5H5</td>\n",
       "      <td>SHIRT</td>\n",
       "      <td>None</td>\n",
       "      <td>None</td>\n",
       "      <td>None</td>\n",
       "      <td>Focal18</td>\n",
       "      <td>None</td>\n",
       "      <td>None</td>\n",
       "      <td>[True, https://www.amazon.com/reviews/iframe?a...</td>\n",
       "      <td>https://images-na.ssl-images-amazon.com/images...</td>\n",
       "      <td>None</td>\n",
       "      <td>https://images-na.ssl-images-amazon.com/images...</td>\n",
       "      <td>100% Brand New &amp; Fashion&lt;br&gt; Quantity: 1 Piece...</td>\n",
       "      <td>Focal18 Sailor Collar Bubble Sleeve Blouse Shi...</td>\n",
       "      <td>None</td>\n",
       "      <td>https://images-na.ssl-images-amazon.com/images...</td>\n",
       "      <td>None</td>\n",
       "      <td>NaN</td>\n",
       "    </tr>\n",
       "    <tr>\n",
       "      <th>4</th>\n",
       "      <td>None</td>\n",
       "      <td>B004GSI2OS</td>\n",
       "      <td>SHIRT</td>\n",
       "      <td>$26.26</td>\n",
       "      <td>None</td>\n",
       "      <td>Onyx Black/ Stone</td>\n",
       "      <td>FeatherLite</td>\n",
       "      <td>None</td>\n",
       "      <td>Usually ships in 6-10 business days</td>\n",
       "      <td>[False, https://www.amazon.com/reviews/iframe?...</td>\n",
       "      <td>https://images-na.ssl-images-amazon.com/images...</td>\n",
       "      <td>now</td>\n",
       "      <td>https://images-na.ssl-images-amazon.com/images...</td>\n",
       "      <td></td>\n",
       "      <td>Featherlite Ladies' Long Sleeve Stain Resistan...</td>\n",
       "      <td>None</td>\n",
       "      <td>https://images-na.ssl-images-amazon.com/images...</td>\n",
       "      <td>None</td>\n",
       "      <td>NaN</td>\n",
       "    </tr>\n",
       "  </tbody>\n",
       "</table>\n",
       "</div>"
      ],
      "text/plain": [
       "    sku        asin product_type_name formatted_price author  \\\n",
       "0  None  B016I2TS4W             SHIRT            None   None   \n",
       "1  None  B01N49AI08             SHIRT            None   None   \n",
       "2  None  B01JDPCOHO             SHIRT            None   None   \n",
       "3  None  B01N19U5H5             SHIRT            None   None   \n",
       "4  None  B004GSI2OS             SHIRT          $26.26   None   \n",
       "\n",
       "               color         brand publisher  \\\n",
       "0               None         FNC7C      None   \n",
       "1               None  FIG Clothing      None   \n",
       "2               None  FIG Clothing      None   \n",
       "3               None       Focal18      None   \n",
       "4  Onyx Black/ Stone   FeatherLite      None   \n",
       "\n",
       "                          availability  \\\n",
       "0                                 None   \n",
       "1                                 None   \n",
       "2                                 None   \n",
       "3                                 None   \n",
       "4  Usually ships in 6-10 business days   \n",
       "\n",
       "                                             reviews  \\\n",
       "0  [False, https://www.amazon.com/reviews/iframe?...   \n",
       "1  [False, https://www.amazon.com/reviews/iframe?...   \n",
       "2  [False, https://www.amazon.com/reviews/iframe?...   \n",
       "3  [True, https://www.amazon.com/reviews/iframe?a...   \n",
       "4  [False, https://www.amazon.com/reviews/iframe?...   \n",
       "\n",
       "                                     large_image_url availability_type  \\\n",
       "0  https://images-na.ssl-images-amazon.com/images...              None   \n",
       "1  https://images-na.ssl-images-amazon.com/images...              None   \n",
       "2  https://images-na.ssl-images-amazon.com/images...              None   \n",
       "3  https://images-na.ssl-images-amazon.com/images...              None   \n",
       "4  https://images-na.ssl-images-amazon.com/images...               now   \n",
       "\n",
       "                                     small_image_url  \\\n",
       "0  https://images-na.ssl-images-amazon.com/images...   \n",
       "1  https://images-na.ssl-images-amazon.com/images...   \n",
       "2  https://images-na.ssl-images-amazon.com/images...   \n",
       "3  https://images-na.ssl-images-amazon.com/images...   \n",
       "4  https://images-na.ssl-images-amazon.com/images...   \n",
       "\n",
       "                                    editorial_review  \\\n",
       "0  Minions Como Superheroes Ironman Women's O Nec...   \n",
       "1  Sizing runs on the small side. FIG® recommends...   \n",
       "2  Sizing runs on the small side. FIG® recommends...   \n",
       "3  100% Brand New & Fashion<br> Quantity: 1 Piece...   \n",
       "4                                                      \n",
       "\n",
       "                                               title model  \\\n",
       "0  Minions Como Superheroes Ironman Long Sleeve R...  None   \n",
       "1                      FIG Clothing Womens Izo Tunic  None   \n",
       "2                        FIG Clothing Womens Won Top  None   \n",
       "3  Focal18 Sailor Collar Bubble Sleeve Blouse Shi...  None   \n",
       "4  Featherlite Ladies' Long Sleeve Stain Resistan...  None   \n",
       "\n",
       "                                    medium_image_url manufacturer  \\\n",
       "0  https://images-na.ssl-images-amazon.com/images...         None   \n",
       "1  https://images-na.ssl-images-amazon.com/images...         None   \n",
       "2  https://images-na.ssl-images-amazon.com/images...         None   \n",
       "3  https://images-na.ssl-images-amazon.com/images...         None   \n",
       "4  https://images-na.ssl-images-amazon.com/images...         None   \n",
       "\n",
       "  editorial_reivew  \n",
       "0              NaN  \n",
       "1              NaN  \n",
       "2              NaN  \n",
       "3              NaN  \n",
       "4              NaN  "
      ]
     },
     "execution_count": 279,
     "metadata": {},
     "output_type": "execute_result"
    }
   ],
   "source": [
    "data.head()"
   ]
  },
  {
   "cell_type": "markdown",
   "metadata": {},
   "source": [
    "We can observe that there are 19 features present in the dataset"
   ]
  },
  {
   "cell_type": "code",
   "execution_count": 280,
   "metadata": {},
   "outputs": [
    {
     "data": {
      "text/plain": [
       "Index(['sku', 'asin', 'product_type_name', 'formatted_price', 'author',\n",
       "       'color', 'brand', 'publisher', 'availability', 'reviews',\n",
       "       'large_image_url', 'availability_type', 'small_image_url',\n",
       "       'editorial_review', 'title', 'model', 'medium_image_url',\n",
       "       'manufacturer', 'editorial_reivew'],\n",
       "      dtype='object')"
      ]
     },
     "execution_count": 280,
     "metadata": {},
     "output_type": "execute_result"
    }
   ],
   "source": [
    "data.columns"
   ]
  },
  {
   "cell_type": "markdown",
   "metadata": {},
   "source": [
    "## Viewing and selecting data"
   ]
  },
  {
   "cell_type": "markdown",
   "metadata": {},
   "source": [
    "### - Which features are useful for our problem statement?"
   ]
  },
  {
   "cell_type": "markdown",
   "metadata": {},
   "source": [
    "ASIN - Amazon Standard Identification Number"
   ]
  },
  {
   "cell_type": "code",
   "execution_count": 281,
   "metadata": {},
   "outputs": [],
   "source": [
    "data = data[['asin', 'brand', 'color', 'medium_image_url', 'product_type_name', 'title', 'formatted_price']]"
   ]
  },
  {
   "cell_type": "code",
   "execution_count": 282,
   "metadata": {
    "scrolled": true
   },
   "outputs": [
    {
     "data": {
      "text/html": [
       "<div>\n",
       "<style scoped>\n",
       "    .dataframe tbody tr th:only-of-type {\n",
       "        vertical-align: middle;\n",
       "    }\n",
       "\n",
       "    .dataframe tbody tr th {\n",
       "        vertical-align: top;\n",
       "    }\n",
       "\n",
       "    .dataframe thead th {\n",
       "        text-align: right;\n",
       "    }\n",
       "</style>\n",
       "<table border=\"1\" class=\"dataframe\">\n",
       "  <thead>\n",
       "    <tr style=\"text-align: right;\">\n",
       "      <th></th>\n",
       "      <th>asin</th>\n",
       "      <th>brand</th>\n",
       "      <th>color</th>\n",
       "      <th>medium_image_url</th>\n",
       "      <th>product_type_name</th>\n",
       "      <th>title</th>\n",
       "      <th>formatted_price</th>\n",
       "    </tr>\n",
       "  </thead>\n",
       "  <tbody>\n",
       "    <tr>\n",
       "      <th>0</th>\n",
       "      <td>B016I2TS4W</td>\n",
       "      <td>FNC7C</td>\n",
       "      <td>None</td>\n",
       "      <td>https://images-na.ssl-images-amazon.com/images...</td>\n",
       "      <td>SHIRT</td>\n",
       "      <td>Minions Como Superheroes Ironman Long Sleeve R...</td>\n",
       "      <td>None</td>\n",
       "    </tr>\n",
       "    <tr>\n",
       "      <th>1</th>\n",
       "      <td>B01N49AI08</td>\n",
       "      <td>FIG Clothing</td>\n",
       "      <td>None</td>\n",
       "      <td>https://images-na.ssl-images-amazon.com/images...</td>\n",
       "      <td>SHIRT</td>\n",
       "      <td>FIG Clothing Womens Izo Tunic</td>\n",
       "      <td>None</td>\n",
       "    </tr>\n",
       "    <tr>\n",
       "      <th>2</th>\n",
       "      <td>B01JDPCOHO</td>\n",
       "      <td>FIG Clothing</td>\n",
       "      <td>None</td>\n",
       "      <td>https://images-na.ssl-images-amazon.com/images...</td>\n",
       "      <td>SHIRT</td>\n",
       "      <td>FIG Clothing Womens Won Top</td>\n",
       "      <td>None</td>\n",
       "    </tr>\n",
       "    <tr>\n",
       "      <th>3</th>\n",
       "      <td>B01N19U5H5</td>\n",
       "      <td>Focal18</td>\n",
       "      <td>None</td>\n",
       "      <td>https://images-na.ssl-images-amazon.com/images...</td>\n",
       "      <td>SHIRT</td>\n",
       "      <td>Focal18 Sailor Collar Bubble Sleeve Blouse Shi...</td>\n",
       "      <td>None</td>\n",
       "    </tr>\n",
       "    <tr>\n",
       "      <th>4</th>\n",
       "      <td>B004GSI2OS</td>\n",
       "      <td>FeatherLite</td>\n",
       "      <td>Onyx Black/ Stone</td>\n",
       "      <td>https://images-na.ssl-images-amazon.com/images...</td>\n",
       "      <td>SHIRT</td>\n",
       "      <td>Featherlite Ladies' Long Sleeve Stain Resistan...</td>\n",
       "      <td>$26.26</td>\n",
       "    </tr>\n",
       "  </tbody>\n",
       "</table>\n",
       "</div>"
      ],
      "text/plain": [
       "         asin         brand              color  \\\n",
       "0  B016I2TS4W         FNC7C               None   \n",
       "1  B01N49AI08  FIG Clothing               None   \n",
       "2  B01JDPCOHO  FIG Clothing               None   \n",
       "3  B01N19U5H5       Focal18               None   \n",
       "4  B004GSI2OS   FeatherLite  Onyx Black/ Stone   \n",
       "\n",
       "                                    medium_image_url product_type_name  \\\n",
       "0  https://images-na.ssl-images-amazon.com/images...             SHIRT   \n",
       "1  https://images-na.ssl-images-amazon.com/images...             SHIRT   \n",
       "2  https://images-na.ssl-images-amazon.com/images...             SHIRT   \n",
       "3  https://images-na.ssl-images-amazon.com/images...             SHIRT   \n",
       "4  https://images-na.ssl-images-amazon.com/images...             SHIRT   \n",
       "\n",
       "                                               title formatted_price  \n",
       "0  Minions Como Superheroes Ironman Long Sleeve R...            None  \n",
       "1                      FIG Clothing Womens Izo Tunic            None  \n",
       "2                        FIG Clothing Womens Won Top            None  \n",
       "3  Focal18 Sailor Collar Bubble Sleeve Blouse Shi...            None  \n",
       "4  Featherlite Ladies' Long Sleeve Stain Resistan...          $26.26  "
      ]
     },
     "execution_count": 282,
     "metadata": {},
     "output_type": "execute_result"
    }
   ],
   "source": [
    "data.head()"
   ]
  },
  {
   "cell_type": "markdown",
   "metadata": {},
   "source": [
    "### - General core insights of the data"
   ]
  },
  {
   "cell_type": "code",
   "execution_count": 283,
   "metadata": {},
   "outputs": [
    {
     "name": "stdout",
     "output_type": "stream",
     "text": [
      "<class 'pandas.core.frame.DataFrame'>\n",
      "RangeIndex: 183138 entries, 0 to 183137\n",
      "Data columns (total 7 columns):\n",
      " #   Column             Non-Null Count   Dtype \n",
      "---  ------             --------------   ----- \n",
      " 0   asin               183138 non-null  object\n",
      " 1   brand              182987 non-null  object\n",
      " 2   color              64956 non-null   object\n",
      " 3   medium_image_url   183138 non-null  object\n",
      " 4   product_type_name  183138 non-null  object\n",
      " 5   title              183138 non-null  object\n",
      " 6   formatted_price    28395 non-null   object\n",
      "dtypes: object(7)\n",
      "memory usage: 9.8+ MB\n"
     ]
    }
   ],
   "source": [
    "data.info()"
   ]
  },
  {
   "cell_type": "markdown",
   "metadata": {},
   "source": [
    "### -The data type information of each column"
   ]
  },
  {
   "cell_type": "code",
   "execution_count": 284,
   "metadata": {},
   "outputs": [
    {
     "data": {
      "text/plain": [
       "asin                 object\n",
       "brand                object\n",
       "color                object\n",
       "medium_image_url     object\n",
       "product_type_name    object\n",
       "title                object\n",
       "formatted_price      object\n",
       "dtype: object"
      ]
     },
     "execution_count": 284,
     "metadata": {},
     "output_type": "execute_result"
    }
   ],
   "source": [
    "data.dtypes"
   ]
  },
  {
   "cell_type": "markdown",
   "metadata": {},
   "source": [
    "## Describing data"
   ]
  },
  {
   "cell_type": "markdown",
   "metadata": {},
   "source": [
    "### 1. How many product types are there in total?"
   ]
  },
  {
   "cell_type": "code",
   "execution_count": 285,
   "metadata": {
    "scrolled": true
   },
   "outputs": [
    {
     "data": {
      "text/plain": [
       "count     183138\n",
       "unique        72\n",
       "top        SHIRT\n",
       "freq      167794\n",
       "Name: product_type_name, dtype: object"
      ]
     },
     "execution_count": 285,
     "metadata": {},
     "output_type": "execute_result"
    }
   ],
   "source": [
    "data['product_type_name'].describe()"
   ]
  },
  {
   "cell_type": "markdown",
   "metadata": {},
   "source": [
    "There are 72 unique categories of products in the dataset with SHIRT having the top frequency"
   ]
  },
  {
   "cell_type": "markdown",
   "metadata": {},
   "source": [
    "###         The unique product types in the dataset are:"
   ]
  },
  {
   "cell_type": "code",
   "execution_count": 286,
   "metadata": {},
   "outputs": [
    {
     "data": {
      "text/plain": [
       "array(['SHIRT', 'SWEATER', 'APPAREL', 'OUTDOOR_RECREATION_PRODUCT',\n",
       "       'BOOKS_1973_AND_LATER', 'PANTS', 'HAT', 'SPORTING_GOODS', 'DRESS',\n",
       "       'UNDERWEAR', 'SKIRT', 'OUTERWEAR', 'BRA', 'ACCESSORY',\n",
       "       'ART_SUPPLIES', 'SLEEPWEAR', 'ORCA_SHIRT', 'HANDBAG',\n",
       "       'PET_SUPPLIES', 'SHOES', 'KITCHEN', 'ADULT_COSTUME',\n",
       "       'HOME_BED_AND_BATH', 'MISC_OTHER', 'BLAZER',\n",
       "       'HEALTH_PERSONAL_CARE', 'TOYS_AND_GAMES', 'SWIMWEAR',\n",
       "       'CONSUMER_ELECTRONICS', 'SHORTS', 'HOME', 'AUTO_PART',\n",
       "       'OFFICE_PRODUCTS', 'ETHNIC_WEAR', 'BEAUTY',\n",
       "       'INSTRUMENT_PARTS_AND_ACCESSORIES', 'POWERSPORTS_PROTECTIVE_GEAR',\n",
       "       'SHIRTS', 'ABIS_APPAREL', 'AUTO_ACCESSORY', 'NONAPPARELMISC',\n",
       "       'TOOLS', 'BABY_PRODUCT', 'SOCKSHOSIERY',\n",
       "       'POWERSPORTS_RIDING_SHIRT', 'EYEWEAR', 'SUIT', 'OUTDOOR_LIVING',\n",
       "       'POWERSPORTS_RIDING_JACKET', 'HARDWARE', 'SAFETY_SUPPLY',\n",
       "       'ABIS_DVD', 'VIDEO_DVD', 'GOLF_CLUB', 'MUSIC_POPULAR_VINYL',\n",
       "       'HOME_FURNITURE_AND_DECOR', 'TABLET_COMPUTER', 'GUILD_ACCESSORIES',\n",
       "       'ABIS_SPORTS', 'ART_AND_CRAFT_SUPPLY', 'BAG',\n",
       "       'MECHANICAL_COMPONENTS', 'SOUND_AND_RECORDING_EQUIPMENT',\n",
       "       'COMPUTER_COMPONENT', 'JEWELRY', 'BUILDING_MATERIAL', 'LUGGAGE',\n",
       "       'BABY_COSTUME', 'POWERSPORTS_VEHICLE_PART',\n",
       "       'PROFESSIONAL_HEALTHCARE', 'SEEDS_AND_PLANTS',\n",
       "       'WIRELESS_ACCESSORY'], dtype=object)"
      ]
     },
     "execution_count": 286,
     "metadata": {},
     "output_type": "execute_result"
    }
   ],
   "source": [
    "data['product_type_name'].unique()"
   ]
  },
  {
   "cell_type": "markdown",
   "metadata": {},
   "source": [
    "### What are the top 10 frequent product_types?"
   ]
  },
  {
   "cell_type": "code",
   "execution_count": 287,
   "metadata": {},
   "outputs": [],
   "source": [
    "from collections import Counter"
   ]
  },
  {
   "cell_type": "code",
   "execution_count": 288,
   "metadata": {},
   "outputs": [],
   "source": [
    "n = 10\n",
    "dfFrequent = data['product_type_name'].value_counts()[:n].index.tolist()"
   ]
  },
  {
   "cell_type": "code",
   "execution_count": 289,
   "metadata": {},
   "outputs": [
    {
     "data": {
      "text/plain": [
       "['SHIRT',\n",
       " 'APPAREL',\n",
       " 'BOOKS_1973_AND_LATER',\n",
       " 'DRESS',\n",
       " 'SPORTING_GOODS',\n",
       " 'SWEATER',\n",
       " 'OUTERWEAR',\n",
       " 'OUTDOOR_RECREATION_PRODUCT',\n",
       " 'ACCESSORY',\n",
       " 'UNDERWEAR']"
      ]
     },
     "execution_count": 289,
     "metadata": {},
     "output_type": "execute_result"
    }
   ],
   "source": [
    "dfFrequent"
   ]
  },
  {
   "cell_type": "markdown",
   "metadata": {},
   "source": [
    "Using Counter function"
   ]
  },
  {
   "cell_type": "code",
   "execution_count": 290,
   "metadata": {},
   "outputs": [
    {
     "data": {
      "text/plain": [
       "[('SHIRT', 167794),\n",
       " ('APPAREL', 3549),\n",
       " ('BOOKS_1973_AND_LATER', 3336),\n",
       " ('DRESS', 1584),\n",
       " ('SPORTING_GOODS', 1281),\n",
       " ('SWEATER', 837),\n",
       " ('OUTERWEAR', 796),\n",
       " ('OUTDOOR_RECREATION_PRODUCT', 729),\n",
       " ('ACCESSORY', 636),\n",
       " ('UNDERWEAR', 425)]"
      ]
     },
     "execution_count": 290,
     "metadata": {},
     "output_type": "execute_result"
    }
   ],
   "source": [
    "product_count = Counter(list(data['product_type_name']))\n",
    "product_count.most_common(10)"
   ]
  },
  {
   "cell_type": "markdown",
   "metadata": {},
   "source": [
    "### 2.  What are the unique colors in the dataset?"
   ]
  },
  {
   "cell_type": "code",
   "execution_count": 291,
   "metadata": {},
   "outputs": [
    {
     "data": {
      "text/plain": [
       "count     64956\n",
       "unique     7380\n",
       "top       Black\n",
       "freq      13207\n",
       "Name: color, dtype: object"
      ]
     },
     "execution_count": 291,
     "metadata": {},
     "output_type": "execute_result"
    }
   ],
   "source": [
    "data['color'].describe()"
   ]
  },
  {
   "cell_type": "markdown",
   "metadata": {},
   "source": [
    "- No.of products with color information is 64956 out of 183138\n",
    "- The most occuring color is Black.\n",
    "- There are 13,207 records with the color black"
   ]
  },
  {
   "cell_type": "markdown",
   "metadata": {},
   "source": [
    "### What are the top 5 colors from the dataset?"
   ]
  },
  {
   "cell_type": "code",
   "execution_count": 292,
   "metadata": {},
   "outputs": [
    {
     "data": {
      "text/plain": [
       "collections.Counter"
      ]
     },
     "execution_count": 292,
     "metadata": {},
     "output_type": "execute_result"
    }
   ],
   "source": [
    "color_count = Counter(list(data['color']))\n",
    "type(color_count)"
   ]
  },
  {
   "cell_type": "code",
   "execution_count": 293,
   "metadata": {},
   "outputs": [],
   "source": [
    "color_counter = color_count.most_common(5)"
   ]
  },
  {
   "cell_type": "code",
   "execution_count": 294,
   "metadata": {},
   "outputs": [
    {
     "data": {
      "text/plain": [
       "[('Black', 13207), ('White', 8616), ('Blue', 3570), ('Red', 2289)]"
      ]
     },
     "execution_count": 294,
     "metadata": {},
     "output_type": "execute_result"
    }
   ],
   "source": [
    "color_counter[1:]"
   ]
  },
  {
   "cell_type": "markdown",
   "metadata": {},
   "source": [
    "### What percentage of data is missing from the colors feature?"
   ]
  },
  {
   "cell_type": "markdown",
   "metadata": {},
   "source": [
    "There are 118,182 missing records in the dataset with no color"
   ]
  },
  {
   "cell_type": "code",
   "execution_count": 295,
   "metadata": {},
   "outputs": [
    {
     "data": {
      "text/plain": [
       "(None, 118182)"
      ]
     },
     "execution_count": 295,
     "metadata": {},
     "output_type": "execute_result"
    }
   ],
   "source": [
    "color_counter[0]"
   ]
  },
  {
   "cell_type": "markdown",
   "metadata": {},
   "source": [
    "### 3. Description of the price attribute in the dataset"
   ]
  },
  {
   "cell_type": "code",
   "execution_count": 296,
   "metadata": {},
   "outputs": [
    {
     "name": "stdout",
     "output_type": "stream",
     "text": [
      "0           None\n",
      "1           None\n",
      "2           None\n",
      "3           None\n",
      "4         $26.26\n",
      "           ...  \n",
      "183133    $14.58\n",
      "183134      None\n",
      "183135      None\n",
      "183136    $44.99\n",
      "183137      None\n",
      "Name: formatted_price, Length: 183138, dtype: object\n"
     ]
    }
   ],
   "source": [
    "print(data['formatted_price'])"
   ]
  },
  {
   "cell_type": "code",
   "execution_count": 297,
   "metadata": {},
   "outputs": [
    {
     "name": "stdout",
     "output_type": "stream",
     "text": [
      "count      28395\n",
      "unique      3135\n",
      "top       $19.99\n",
      "freq         945\n",
      "Name: formatted_price, dtype: object\n"
     ]
    }
   ],
   "source": [
    "print(data['formatted_price'].describe())"
   ]
  },
  {
   "cell_type": "markdown",
   "metadata": {},
   "source": [
    "Out of 183138, only 28395 products have the price information , rest all of the entries have null values\n",
    "\n",
    "The frequently occuring price is $19.99 with about 945 occurences "
   ]
  },
  {
   "cell_type": "markdown",
   "metadata": {},
   "source": [
    "### 4. How many unique brands are there in the dataset?"
   ]
  },
  {
   "cell_type": "code",
   "execution_count": 298,
   "metadata": {},
   "outputs": [
    {
     "name": "stdout",
     "output_type": "stream",
     "text": [
      "<bound method NDFrame.describe of 0                 FNC7C\n",
      "1          FIG Clothing\n",
      "2          FIG Clothing\n",
      "3               Focal18\n",
      "4           FeatherLite\n",
      "              ...      \n",
      "183133        TOOGOO(R)\n",
      "183134       VOGUE CODE\n",
      "183135         Wrangler\n",
      "183136    susana monaco\n",
      "183137         Sexybaby\n",
      "Name: brand, Length: 183138, dtype: object>\n"
     ]
    }
   ],
   "source": [
    "brands = (data['brand'].describe)\n",
    "print (brands)"
   ]
  },
  {
   "cell_type": "code",
   "execution_count": 299,
   "metadata": {},
   "outputs": [
    {
     "name": "stdout",
     "output_type": "stream",
     "text": [
      "count     182987\n",
      "unique     10577\n",
      "top         Zago\n",
      "freq         223\n",
      "Name: brand, dtype: object\n"
     ]
    }
   ],
   "source": [
    "print (data['brand'].describe())"
   ]
  },
  {
   "cell_type": "markdown",
   "metadata": {},
   "source": [
    "The total number of data points is 183138, out of which \n",
    "only 182987 products have the brand name\n",
    "\n",
    "There are about 10577 unique brands\n",
    "\n",
    "The top brand is by name 'Zago' with a frequency rate of about 223\n"
   ]
  },
  {
   "cell_type": "markdown",
   "metadata": {},
   "source": [
    "### What are the 10 most common brands in the dataset?"
   ]
  },
  {
   "cell_type": "code",
   "execution_count": 300,
   "metadata": {},
   "outputs": [
    {
     "data": {
      "text/plain": [
       "[('Zago', 223),\n",
       " ('XQS', 222),\n",
       " ('Yayun', 215),\n",
       " ('YUNY', 198),\n",
       " ('XiaoTianXin-women clothes', 193),\n",
       " ('Generic', 192),\n",
       " ('Boohoo', 190),\n",
       " ('Alion', 188),\n",
       " ('Abetteric', 187),\n",
       " ('TheMogan', 187)]"
      ]
     },
     "execution_count": 300,
     "metadata": {},
     "output_type": "execute_result"
    }
   ],
   "source": [
    "brand_count = Counter(list(data['brand']))\n",
    "brand_count.most_common(10)"
   ]
  },
  {
   "cell_type": "markdown",
   "metadata": {},
   "source": [
    "The brand with the most number of products is Zago with about 223 products"
   ]
  },
  {
   "cell_type": "markdown",
   "metadata": {},
   "source": [
    "### 5.  General description of title attribute"
   ]
  },
  {
   "cell_type": "code",
   "execution_count": 301,
   "metadata": {},
   "outputs": [
    {
     "name": "stdout",
     "output_type": "stream",
     "text": [
      "<bound method NDFrame.describe of 0         Minions Como Superheroes Ironman Long Sleeve R...\n",
      "1                             FIG Clothing Womens Izo Tunic\n",
      "2                               FIG Clothing Womens Won Top\n",
      "3         Focal18 Sailor Collar Bubble Sleeve Blouse Shi...\n",
      "4         Featherlite Ladies' Long Sleeve Stain Resistan...\n",
      "                                ...                        \n",
      "183133    TOOGOO(R) Women's Tops Spring Autumn Casual Pu...\n",
      "183134    VOGUE CODE Vintage V Neck Plaid Shirt Sleevele...\n",
      "183135    Wrangler George Strait For Her Long Sleeve Pin...\n",
      "183136    Susana Monaco Womens Susana Monoco Sleeveless ...\n",
      "183137    SexyBaby Women's Mesh Splive Flounced Sleeve C...\n",
      "Name: title, Length: 183138, dtype: object>\n"
     ]
    }
   ],
   "source": [
    "print(data['title'].describe)"
   ]
  },
  {
   "cell_type": "code",
   "execution_count": 302,
   "metadata": {},
   "outputs": [
    {
     "name": "stdout",
     "output_type": "stream",
     "text": [
      "count                                                183138\n",
      "unique                                               175985\n",
      "top       Nakoda Cotton Self Print Straight Kurti For Women\n",
      "freq                                                     77\n",
      "Name: title, dtype: object\n"
     ]
    }
   ],
   "source": [
    "print(data['title'].describe())"
   ]
  },
  {
   "cell_type": "markdown",
   "metadata": {},
   "source": [
    "There are 183138 total products with same no.of total titles , and thereby a title exists for each of product\n",
    "\n",
    "The most common title is of the 'Nakoda Cotton Self Print Straight Kurti For Women'and it is repeated for about 77 times"
   ]
  },
  {
   "cell_type": "markdown",
   "metadata": {},
   "source": [
    "## Manipulating data"
   ]
  },
  {
   "cell_type": "markdown",
   "metadata": {},
   "source": [
    "### Converting title to lower case"
   ]
  },
  {
   "cell_type": "code",
   "execution_count": 304,
   "metadata": {},
   "outputs": [],
   "source": [
    "data['title']= data['title'].str.lower()"
   ]
  },
  {
   "cell_type": "code",
   "execution_count": 305,
   "metadata": {},
   "outputs": [
    {
     "data": {
      "text/html": [
       "<div>\n",
       "<style scoped>\n",
       "    .dataframe tbody tr th:only-of-type {\n",
       "        vertical-align: middle;\n",
       "    }\n",
       "\n",
       "    .dataframe tbody tr th {\n",
       "        vertical-align: top;\n",
       "    }\n",
       "\n",
       "    .dataframe thead th {\n",
       "        text-align: right;\n",
       "    }\n",
       "</style>\n",
       "<table border=\"1\" class=\"dataframe\">\n",
       "  <thead>\n",
       "    <tr style=\"text-align: right;\">\n",
       "      <th></th>\n",
       "      <th>asin</th>\n",
       "      <th>brand</th>\n",
       "      <th>color</th>\n",
       "      <th>medium_image_url</th>\n",
       "      <th>product_type_name</th>\n",
       "      <th>title</th>\n",
       "      <th>formatted_price</th>\n",
       "    </tr>\n",
       "  </thead>\n",
       "  <tbody>\n",
       "    <tr>\n",
       "      <th>0</th>\n",
       "      <td>B016I2TS4W</td>\n",
       "      <td>FNC7C</td>\n",
       "      <td>None</td>\n",
       "      <td>https://images-na.ssl-images-amazon.com/images...</td>\n",
       "      <td>SHIRT</td>\n",
       "      <td>minions como superheroes ironman long sleeve r...</td>\n",
       "      <td>None</td>\n",
       "    </tr>\n",
       "    <tr>\n",
       "      <th>1</th>\n",
       "      <td>B01N49AI08</td>\n",
       "      <td>FIG Clothing</td>\n",
       "      <td>None</td>\n",
       "      <td>https://images-na.ssl-images-amazon.com/images...</td>\n",
       "      <td>SHIRT</td>\n",
       "      <td>fig clothing womens izo tunic</td>\n",
       "      <td>None</td>\n",
       "    </tr>\n",
       "    <tr>\n",
       "      <th>2</th>\n",
       "      <td>B01JDPCOHO</td>\n",
       "      <td>FIG Clothing</td>\n",
       "      <td>None</td>\n",
       "      <td>https://images-na.ssl-images-amazon.com/images...</td>\n",
       "      <td>SHIRT</td>\n",
       "      <td>fig clothing womens won top</td>\n",
       "      <td>None</td>\n",
       "    </tr>\n",
       "    <tr>\n",
       "      <th>3</th>\n",
       "      <td>B01N19U5H5</td>\n",
       "      <td>Focal18</td>\n",
       "      <td>None</td>\n",
       "      <td>https://images-na.ssl-images-amazon.com/images...</td>\n",
       "      <td>SHIRT</td>\n",
       "      <td>focal18 sailor collar bubble sleeve blouse shi...</td>\n",
       "      <td>None</td>\n",
       "    </tr>\n",
       "    <tr>\n",
       "      <th>4</th>\n",
       "      <td>B004GSI2OS</td>\n",
       "      <td>FeatherLite</td>\n",
       "      <td>Onyx Black/ Stone</td>\n",
       "      <td>https://images-na.ssl-images-amazon.com/images...</td>\n",
       "      <td>SHIRT</td>\n",
       "      <td>featherlite ladies' long sleeve stain resistan...</td>\n",
       "      <td>$26.26</td>\n",
       "    </tr>\n",
       "    <tr>\n",
       "      <th>...</th>\n",
       "      <td>...</td>\n",
       "      <td>...</td>\n",
       "      <td>...</td>\n",
       "      <td>...</td>\n",
       "      <td>...</td>\n",
       "      <td>...</td>\n",
       "      <td>...</td>\n",
       "    </tr>\n",
       "    <tr>\n",
       "      <th>183133</th>\n",
       "      <td>B01MSALTSO</td>\n",
       "      <td>TOOGOO(R)</td>\n",
       "      <td>Black</td>\n",
       "      <td>https://images-na.ssl-images-amazon.com/images...</td>\n",
       "      <td>OUTERWEAR</td>\n",
       "      <td>toogoo(r) women's tops spring autumn casual pu...</td>\n",
       "      <td>$14.58</td>\n",
       "    </tr>\n",
       "    <tr>\n",
       "      <th>183134</th>\n",
       "      <td>B015W98YQK</td>\n",
       "      <td>VOGUE CODE</td>\n",
       "      <td>Monochrome Plaid</td>\n",
       "      <td>https://images-na.ssl-images-amazon.com/images...</td>\n",
       "      <td>SHIRT</td>\n",
       "      <td>vogue code vintage v neck plaid shirt sleevele...</td>\n",
       "      <td>None</td>\n",
       "    </tr>\n",
       "    <tr>\n",
       "      <th>183135</th>\n",
       "      <td>B075756PGC</td>\n",
       "      <td>Wrangler</td>\n",
       "      <td>Pink</td>\n",
       "      <td>https://images-na.ssl-images-amazon.com/images...</td>\n",
       "      <td>SHIRT</td>\n",
       "      <td>wrangler george strait for her long sleeve pin...</td>\n",
       "      <td>None</td>\n",
       "    </tr>\n",
       "    <tr>\n",
       "      <th>183136</th>\n",
       "      <td>B074L8FVTT</td>\n",
       "      <td>susana monaco</td>\n",
       "      <td>Rose</td>\n",
       "      <td>https://images-na.ssl-images-amazon.com/images...</td>\n",
       "      <td>SHIRT</td>\n",
       "      <td>susana monaco womens susana monoco sleeveless ...</td>\n",
       "      <td>$44.99</td>\n",
       "    </tr>\n",
       "    <tr>\n",
       "      <th>183137</th>\n",
       "      <td>B074FTYJQC</td>\n",
       "      <td>Sexybaby</td>\n",
       "      <td>None</td>\n",
       "      <td>https://images-na.ssl-images-amazon.com/images...</td>\n",
       "      <td>SHIRT</td>\n",
       "      <td>sexybaby women's mesh splive flounced sleeve c...</td>\n",
       "      <td>None</td>\n",
       "    </tr>\n",
       "  </tbody>\n",
       "</table>\n",
       "<p>183138 rows × 7 columns</p>\n",
       "</div>"
      ],
      "text/plain": [
       "              asin          brand              color  \\\n",
       "0       B016I2TS4W          FNC7C               None   \n",
       "1       B01N49AI08   FIG Clothing               None   \n",
       "2       B01JDPCOHO   FIG Clothing               None   \n",
       "3       B01N19U5H5        Focal18               None   \n",
       "4       B004GSI2OS    FeatherLite  Onyx Black/ Stone   \n",
       "...            ...            ...                ...   \n",
       "183133  B01MSALTSO      TOOGOO(R)              Black   \n",
       "183134  B015W98YQK     VOGUE CODE   Monochrome Plaid   \n",
       "183135  B075756PGC       Wrangler               Pink   \n",
       "183136  B074L8FVTT  susana monaco               Rose   \n",
       "183137  B074FTYJQC       Sexybaby               None   \n",
       "\n",
       "                                         medium_image_url product_type_name  \\\n",
       "0       https://images-na.ssl-images-amazon.com/images...             SHIRT   \n",
       "1       https://images-na.ssl-images-amazon.com/images...             SHIRT   \n",
       "2       https://images-na.ssl-images-amazon.com/images...             SHIRT   \n",
       "3       https://images-na.ssl-images-amazon.com/images...             SHIRT   \n",
       "4       https://images-na.ssl-images-amazon.com/images...             SHIRT   \n",
       "...                                                   ...               ...   \n",
       "183133  https://images-na.ssl-images-amazon.com/images...         OUTERWEAR   \n",
       "183134  https://images-na.ssl-images-amazon.com/images...             SHIRT   \n",
       "183135  https://images-na.ssl-images-amazon.com/images...             SHIRT   \n",
       "183136  https://images-na.ssl-images-amazon.com/images...             SHIRT   \n",
       "183137  https://images-na.ssl-images-amazon.com/images...             SHIRT   \n",
       "\n",
       "                                                    title formatted_price  \n",
       "0       minions como superheroes ironman long sleeve r...            None  \n",
       "1                           fig clothing womens izo tunic            None  \n",
       "2                             fig clothing womens won top            None  \n",
       "3       focal18 sailor collar bubble sleeve blouse shi...            None  \n",
       "4       featherlite ladies' long sleeve stain resistan...          $26.26  \n",
       "...                                                   ...             ...  \n",
       "183133  toogoo(r) women's tops spring autumn casual pu...          $14.58  \n",
       "183134  vogue code vintage v neck plaid shirt sleevele...            None  \n",
       "183135  wrangler george strait for her long sleeve pin...            None  \n",
       "183136  susana monaco womens susana monoco sleeveless ...          $44.99  \n",
       "183137  sexybaby women's mesh splive flounced sleeve c...            None  \n",
       "\n",
       "[183138 rows x 7 columns]"
      ]
     },
     "execution_count": 305,
     "metadata": {},
     "output_type": "execute_result"
    }
   ],
   "source": [
    "data"
   ]
  },
  {
   "cell_type": "markdown",
   "metadata": {},
   "source": [
    "### Dropping records with null values of price and color"
   ]
  },
  {
   "cell_type": "code",
   "execution_count": null,
   "metadata": {},
   "outputs": [],
   "source": []
  },
  {
   "cell_type": "code",
   "execution_count": null,
   "metadata": {},
   "outputs": [],
   "source": []
  }
 ],
 "metadata": {
  "kernelspec": {
   "display_name": "Python 3 (ipykernel)",
   "language": "python",
   "name": "python3"
  },
  "language_info": {
   "codemirror_mode": {
    "name": "ipython",
    "version": 3
   },
   "file_extension": ".py",
   "mimetype": "text/x-python",
   "name": "python",
   "nbconvert_exporter": "python",
   "pygments_lexer": "ipython3",
   "version": "3.9.6"
  }
 },
 "nbformat": 4,
 "nbformat_minor": 4
}
